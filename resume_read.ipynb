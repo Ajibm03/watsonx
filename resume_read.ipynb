{
 "cells": [
  {
   "cell_type": "code",
   "execution_count": null,
   "id": "c3fc3752",
   "metadata": {},
   "outputs": [],
   "source": [
    "from flask import Flask\n",
    "import PyPDF2\n",
    "# import spacy\n",
    "\n",
    "# nlp = spacy.load(\"en_core_web_sm\")\n",
    "\n",
    "app = Flask(__name__)\n",
    "\n",
    "@app.route('/readresume', methods=['GET'])\n",
    "def readresume():\n",
    "    pdf_path = \"path_of_file.pdf\"\n",
    "    text = \"\"\n",
    "    with open(pdf_path, \"rb\") as pdf_file:\n",
    "        pdf_reader = PyPDF2.PdfReader(pdf_file)\n",
    "        for page_num in range(len(pdf_reader.pages)):\n",
    "            text += pdf_reader.pages[page_num].extract_text()\n",
    "#     doc = nlp(text)\n",
    "    skills = []\n",
    "\n",
    "    # Example list of skills, you can customize this based on your needs\n",
    "    skill_keywords = [\"python\", \"java\", \"data analysis\", \"machine learning\", \"communication\", \"teamwork\", \"numpy\", \"pandas\", \n",
    "                      \"excel\", \"postgresql\", \"postman\", \"pycharm\", \"jupyter notebook\", \"rest api\", \"xml\", \"css\", \"javascript\",\n",
    "                      \"c++\", \"c\", \"ruby\", \"html\", \"nodejs\", \"sql\", \"mysql\", \"nosql\", \"tensorflow\", \"pytorch\", \"aws\", \"azure\", \n",
    "                      \"google cloud\", \"devops\", \"docker\", \"kubernetes\", \"jenkins\", \"cisco\", \"juniper\", \"firewalls\", \"encryption\",\n",
    "                      \"selenium\", \"software testing\", \"junit\", \"mobile app developer\", \"android\", \"ios\", \"git\", \"bitbucket\", \n",
    "                      \"svn\", \"ui/ux design\", \"tableau\", \"power bi\", \"powerbi\", \"jira\", \"trello\", \"shell\", \"agile\", \"scrum\", \"hadoop\", \"spark\", \"nlp\", \"linux\", \"unix\", \"api\", \"react\", \"angular\", \"django\", \"data\", \"database\", \"iot\", \"problem solving\", \"time management\", \"teamwork\", \"creativity\", \"leadership\", \"collaboration\", \"decision making\", \"networking\", \"mentoring\", \"risk management\", \"multitasking\", \"innovation\", \"stress management\", \"delegation\", \"sales\", \"medical\", \"health\", \"goal\"]\n",
    "\n",
    "    for token in set(text.split()):\n",
    "        if token.lower() in skill_keywords:\n",
    "            skills.append(token)\n",
    "            \n",
    "    return {'skills': skills}\n",
    "\n",
    "if __name__ == '__main__':\n",
    "    app.run(host='0.0.0.0', port=5000)\n"
   ]
  },
  {
   "cell_type": "code",
   "execution_count": null,
   "id": "8c190318",
   "metadata": {},
   "outputs": [],
   "source": []
  }
 ],
 "metadata": {
  "kernelspec": {
   "display_name": "Python 3 (ipykernel)",
   "language": "python",
   "name": "python3"
  },
  "language_info": {
   "codemirror_mode": {
    "name": "ipython",
    "version": 3
   },
   "file_extension": ".py",
   "mimetype": "text/x-python",
   "name": "python",
   "nbconvert_exporter": "python",
   "pygments_lexer": "ipython3",
   "version": "3.10.9"
  }
 },
 "nbformat": 4,
 "nbformat_minor": 5
}
